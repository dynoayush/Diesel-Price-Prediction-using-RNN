{
  "nbformat": 4,
  "nbformat_minor": 0,
  "metadata": {
    "colab": {
      "provenance": []
    },
    "kernelspec": {
      "name": "python3",
      "display_name": "Python 3"
    },
    "language_info": {
      "name": "python"
    }
  },
  "cells": [
    {
      "cell_type": "markdown",
      "source": [
        "**Import the libraries**"
      ],
      "metadata": {
        "id": "UosN0T69K2AT"
      }
    },
    {
      "cell_type": "code",
      "execution_count": null,
      "metadata": {
        "id": "JejXbY5gJ4b5"
      },
      "outputs": [],
      "source": [
        "import numpy as np\n",
        "import pandas as pd\n",
        "import matplotlib.pyplot as plt"
      ]
    },
    {
      "cell_type": "code",
      "source": [
        "df =  pd.read_csv('Diesel_Price_Train.csv')\n",
        "df.head(5)"
      ],
      "metadata": {
        "colab": {
          "base_uri": "https://localhost:8080/",
          "height": 206
        },
        "id": "aVakHIYyKohi",
        "outputId": "509e49aa-aaa5-42a5-b829-acff7a16353c"
      },
      "execution_count": null,
      "outputs": [
        {
          "output_type": "execute_result",
          "data": {
            "text/plain": [
              "         Date  Delhi Diesel Price  Foreign Exchange Rate  Crude Oil Price\n",
              "0  01-01-2003               19.47                  48.01            29.59\n",
              "1  02-01-2003               19.47                  48.05            29.59\n",
              "2  03-01-2003               19.07                  48.00            29.59\n",
              "3  04-01-2003               19.07                  48.00            29.59\n",
              "4  05-01-2003               19.07                  48.00            29.59"
            ],
            "text/html": [
              "\n",
              "  <div id=\"df-7171c014-06b9-40a5-ada0-6a4d0cdb65c6\" class=\"colab-df-container\">\n",
              "    <div>\n",
              "<style scoped>\n",
              "    .dataframe tbody tr th:only-of-type {\n",
              "        vertical-align: middle;\n",
              "    }\n",
              "\n",
              "    .dataframe tbody tr th {\n",
              "        vertical-align: top;\n",
              "    }\n",
              "\n",
              "    .dataframe thead th {\n",
              "        text-align: right;\n",
              "    }\n",
              "</style>\n",
              "<table border=\"1\" class=\"dataframe\">\n",
              "  <thead>\n",
              "    <tr style=\"text-align: right;\">\n",
              "      <th></th>\n",
              "      <th>Date</th>\n",
              "      <th>Delhi Diesel Price</th>\n",
              "      <th>Foreign Exchange Rate</th>\n",
              "      <th>Crude Oil Price</th>\n",
              "    </tr>\n",
              "  </thead>\n",
              "  <tbody>\n",
              "    <tr>\n",
              "      <th>0</th>\n",
              "      <td>01-01-2003</td>\n",
              "      <td>19.47</td>\n",
              "      <td>48.01</td>\n",
              "      <td>29.59</td>\n",
              "    </tr>\n",
              "    <tr>\n",
              "      <th>1</th>\n",
              "      <td>02-01-2003</td>\n",
              "      <td>19.47</td>\n",
              "      <td>48.05</td>\n",
              "      <td>29.59</td>\n",
              "    </tr>\n",
              "    <tr>\n",
              "      <th>2</th>\n",
              "      <td>03-01-2003</td>\n",
              "      <td>19.07</td>\n",
              "      <td>48.00</td>\n",
              "      <td>29.59</td>\n",
              "    </tr>\n",
              "    <tr>\n",
              "      <th>3</th>\n",
              "      <td>04-01-2003</td>\n",
              "      <td>19.07</td>\n",
              "      <td>48.00</td>\n",
              "      <td>29.59</td>\n",
              "    </tr>\n",
              "    <tr>\n",
              "      <th>4</th>\n",
              "      <td>05-01-2003</td>\n",
              "      <td>19.07</td>\n",
              "      <td>48.00</td>\n",
              "      <td>29.59</td>\n",
              "    </tr>\n",
              "  </tbody>\n",
              "</table>\n",
              "</div>\n",
              "    <div class=\"colab-df-buttons\">\n",
              "\n",
              "  <div class=\"colab-df-container\">\n",
              "    <button class=\"colab-df-convert\" onclick=\"convertToInteractive('df-7171c014-06b9-40a5-ada0-6a4d0cdb65c6')\"\n",
              "            title=\"Convert this dataframe to an interactive table.\"\n",
              "            style=\"display:none;\">\n",
              "\n",
              "  <svg xmlns=\"http://www.w3.org/2000/svg\" height=\"24px\" viewBox=\"0 -960 960 960\">\n",
              "    <path d=\"M120-120v-720h720v720H120Zm60-500h600v-160H180v160Zm220 220h160v-160H400v160Zm0 220h160v-160H400v160ZM180-400h160v-160H180v160Zm440 0h160v-160H620v160ZM180-180h160v-160H180v160Zm440 0h160v-160H620v160Z\"/>\n",
              "  </svg>\n",
              "    </button>\n",
              "\n",
              "  <style>\n",
              "    .colab-df-container {\n",
              "      display:flex;\n",
              "      gap: 12px;\n",
              "    }\n",
              "\n",
              "    .colab-df-convert {\n",
              "      background-color: #E8F0FE;\n",
              "      border: none;\n",
              "      border-radius: 50%;\n",
              "      cursor: pointer;\n",
              "      display: none;\n",
              "      fill: #1967D2;\n",
              "      height: 32px;\n",
              "      padding: 0 0 0 0;\n",
              "      width: 32px;\n",
              "    }\n",
              "\n",
              "    .colab-df-convert:hover {\n",
              "      background-color: #E2EBFA;\n",
              "      box-shadow: 0px 1px 2px rgba(60, 64, 67, 0.3), 0px 1px 3px 1px rgba(60, 64, 67, 0.15);\n",
              "      fill: #174EA6;\n",
              "    }\n",
              "\n",
              "    .colab-df-buttons div {\n",
              "      margin-bottom: 4px;\n",
              "    }\n",
              "\n",
              "    [theme=dark] .colab-df-convert {\n",
              "      background-color: #3B4455;\n",
              "      fill: #D2E3FC;\n",
              "    }\n",
              "\n",
              "    [theme=dark] .colab-df-convert:hover {\n",
              "      background-color: #434B5C;\n",
              "      box-shadow: 0px 1px 3px 1px rgba(0, 0, 0, 0.15);\n",
              "      filter: drop-shadow(0px 1px 2px rgba(0, 0, 0, 0.3));\n",
              "      fill: #FFFFFF;\n",
              "    }\n",
              "  </style>\n",
              "\n",
              "    <script>\n",
              "      const buttonEl =\n",
              "        document.querySelector('#df-7171c014-06b9-40a5-ada0-6a4d0cdb65c6 button.colab-df-convert');\n",
              "      buttonEl.style.display =\n",
              "        google.colab.kernel.accessAllowed ? 'block' : 'none';\n",
              "\n",
              "      async function convertToInteractive(key) {\n",
              "        const element = document.querySelector('#df-7171c014-06b9-40a5-ada0-6a4d0cdb65c6');\n",
              "        const dataTable =\n",
              "          await google.colab.kernel.invokeFunction('convertToInteractive',\n",
              "                                                    [key], {});\n",
              "        if (!dataTable) return;\n",
              "\n",
              "        const docLinkHtml = 'Like what you see? Visit the ' +\n",
              "          '<a target=\"_blank\" href=https://colab.research.google.com/notebooks/data_table.ipynb>data table notebook</a>'\n",
              "          + ' to learn more about interactive tables.';\n",
              "        element.innerHTML = '';\n",
              "        dataTable['output_type'] = 'display_data';\n",
              "        await google.colab.output.renderOutput(dataTable, element);\n",
              "        const docLink = document.createElement('div');\n",
              "        docLink.innerHTML = docLinkHtml;\n",
              "        element.appendChild(docLink);\n",
              "      }\n",
              "    </script>\n",
              "  </div>\n",
              "\n",
              "\n",
              "    <div id=\"df-16071a79-a8a1-4b99-8938-12f6253a8cea\">\n",
              "      <button class=\"colab-df-quickchart\" onclick=\"quickchart('df-16071a79-a8a1-4b99-8938-12f6253a8cea')\"\n",
              "                title=\"Suggest charts\"\n",
              "                style=\"display:none;\">\n",
              "\n",
              "<svg xmlns=\"http://www.w3.org/2000/svg\" height=\"24px\"viewBox=\"0 0 24 24\"\n",
              "     width=\"24px\">\n",
              "    <g>\n",
              "        <path d=\"M19 3H5c-1.1 0-2 .9-2 2v14c0 1.1.9 2 2 2h14c1.1 0 2-.9 2-2V5c0-1.1-.9-2-2-2zM9 17H7v-7h2v7zm4 0h-2V7h2v10zm4 0h-2v-4h2v4z\"/>\n",
              "    </g>\n",
              "</svg>\n",
              "      </button>\n",
              "\n",
              "<style>\n",
              "  .colab-df-quickchart {\n",
              "      --bg-color: #E8F0FE;\n",
              "      --fill-color: #1967D2;\n",
              "      --hover-bg-color: #E2EBFA;\n",
              "      --hover-fill-color: #174EA6;\n",
              "      --disabled-fill-color: #AAA;\n",
              "      --disabled-bg-color: #DDD;\n",
              "  }\n",
              "\n",
              "  [theme=dark] .colab-df-quickchart {\n",
              "      --bg-color: #3B4455;\n",
              "      --fill-color: #D2E3FC;\n",
              "      --hover-bg-color: #434B5C;\n",
              "      --hover-fill-color: #FFFFFF;\n",
              "      --disabled-bg-color: #3B4455;\n",
              "      --disabled-fill-color: #666;\n",
              "  }\n",
              "\n",
              "  .colab-df-quickchart {\n",
              "    background-color: var(--bg-color);\n",
              "    border: none;\n",
              "    border-radius: 50%;\n",
              "    cursor: pointer;\n",
              "    display: none;\n",
              "    fill: var(--fill-color);\n",
              "    height: 32px;\n",
              "    padding: 0;\n",
              "    width: 32px;\n",
              "  }\n",
              "\n",
              "  .colab-df-quickchart:hover {\n",
              "    background-color: var(--hover-bg-color);\n",
              "    box-shadow: 0 1px 2px rgba(60, 64, 67, 0.3), 0 1px 3px 1px rgba(60, 64, 67, 0.15);\n",
              "    fill: var(--button-hover-fill-color);\n",
              "  }\n",
              "\n",
              "  .colab-df-quickchart-complete:disabled,\n",
              "  .colab-df-quickchart-complete:disabled:hover {\n",
              "    background-color: var(--disabled-bg-color);\n",
              "    fill: var(--disabled-fill-color);\n",
              "    box-shadow: none;\n",
              "  }\n",
              "\n",
              "  .colab-df-spinner {\n",
              "    border: 2px solid var(--fill-color);\n",
              "    border-color: transparent;\n",
              "    border-bottom-color: var(--fill-color);\n",
              "    animation:\n",
              "      spin 1s steps(1) infinite;\n",
              "  }\n",
              "\n",
              "  @keyframes spin {\n",
              "    0% {\n",
              "      border-color: transparent;\n",
              "      border-bottom-color: var(--fill-color);\n",
              "      border-left-color: var(--fill-color);\n",
              "    }\n",
              "    20% {\n",
              "      border-color: transparent;\n",
              "      border-left-color: var(--fill-color);\n",
              "      border-top-color: var(--fill-color);\n",
              "    }\n",
              "    30% {\n",
              "      border-color: transparent;\n",
              "      border-left-color: var(--fill-color);\n",
              "      border-top-color: var(--fill-color);\n",
              "      border-right-color: var(--fill-color);\n",
              "    }\n",
              "    40% {\n",
              "      border-color: transparent;\n",
              "      border-right-color: var(--fill-color);\n",
              "      border-top-color: var(--fill-color);\n",
              "    }\n",
              "    60% {\n",
              "      border-color: transparent;\n",
              "      border-right-color: var(--fill-color);\n",
              "    }\n",
              "    80% {\n",
              "      border-color: transparent;\n",
              "      border-right-color: var(--fill-color);\n",
              "      border-bottom-color: var(--fill-color);\n",
              "    }\n",
              "    90% {\n",
              "      border-color: transparent;\n",
              "      border-bottom-color: var(--fill-color);\n",
              "    }\n",
              "  }\n",
              "</style>\n",
              "\n",
              "      <script>\n",
              "        async function quickchart(key) {\n",
              "          const quickchartButtonEl =\n",
              "            document.querySelector('#' + key + ' button');\n",
              "          quickchartButtonEl.disabled = true;  // To prevent multiple clicks.\n",
              "          quickchartButtonEl.classList.add('colab-df-spinner');\n",
              "          try {\n",
              "            const charts = await google.colab.kernel.invokeFunction(\n",
              "                'suggestCharts', [key], {});\n",
              "          } catch (error) {\n",
              "            console.error('Error during call to suggestCharts:', error);\n",
              "          }\n",
              "          quickchartButtonEl.classList.remove('colab-df-spinner');\n",
              "          quickchartButtonEl.classList.add('colab-df-quickchart-complete');\n",
              "        }\n",
              "        (() => {\n",
              "          let quickchartButtonEl =\n",
              "            document.querySelector('#df-16071a79-a8a1-4b99-8938-12f6253a8cea button');\n",
              "          quickchartButtonEl.style.display =\n",
              "            google.colab.kernel.accessAllowed ? 'block' : 'none';\n",
              "        })();\n",
              "      </script>\n",
              "    </div>\n",
              "\n",
              "    </div>\n",
              "  </div>\n"
            ],
            "application/vnd.google.colaboratory.intrinsic+json": {
              "type": "dataframe",
              "variable_name": "df",
              "summary": "{\n  \"name\": \"df\",\n  \"rows\": 5299,\n  \"fields\": [\n    {\n      \"column\": \"Date\",\n      \"properties\": {\n        \"dtype\": \"string\",\n        \"num_unique_values\": 5299,\n        \"samples\": [\n          \"01-06-2016\",\n          \"19-07-2012\",\n          \"15-10-2004\"\n        ],\n        \"semantic_type\": \"\",\n        \"description\": \"\"\n      }\n    },\n    {\n      \"column\": \"Delhi Diesel Price\",\n      \"properties\": {\n        \"dtype\": \"number\",\n        \"std\": 11.191295324616371,\n        \"min\": 19.07,\n        \"max\": 59.02,\n        \"num_unique_values\": 134,\n        \"samples\": [\n          53.61,\n          53.35,\n          52.94\n        ],\n        \"semantic_type\": \"\",\n        \"description\": \"\"\n      }\n    },\n    {\n      \"column\": \"Foreign Exchange Rate\",\n      \"properties\": {\n        \"dtype\": \"number\",\n        \"std\": 8.73278454063341,\n        \"min\": 39.04,\n        \"max\": 68.81,\n        \"num_unique_values\": 1663,\n        \"samples\": [\n          65.02,\n          44.41,\n          46.39\n        ],\n        \"semantic_type\": \"\",\n        \"description\": \"\"\n      }\n    },\n    {\n      \"column\": \"Crude Oil Price\",\n      \"properties\": {\n        \"dtype\": \"number\",\n        \"std\": 28.86246545177282,\n        \"min\": 24.21,\n        \"max\": 132.47,\n        \"num_unique_values\": 174,\n        \"samples\": [\n          28.08,\n          56.43,\n          112.53\n        ],\n        \"semantic_type\": \"\",\n        \"description\": \"\"\n      }\n    }\n  ]\n}"
            }
          },
          "metadata": {},
          "execution_count": 5
        }
      ]
    },
    {
      "cell_type": "markdown",
      "source": [
        "**We only need Diesel price of Delhi**"
      ],
      "metadata": {
        "id": "Xkkix9IQL56K"
      }
    },
    {
      "cell_type": "code",
      "source": [
        "training_set = df[['Delhi Diesel Price']].values\n",
        "training_set"
      ],
      "metadata": {
        "colab": {
          "base_uri": "https://localhost:8080/"
        },
        "id": "3jDPoNkBLstN",
        "outputId": "76850990-fedd-4f38-f02c-6f72f8562074"
      },
      "execution_count": null,
      "outputs": [
        {
          "output_type": "execute_result",
          "data": {
            "text/plain": [
              "array([[19.47],\n",
              "       [19.47],\n",
              "       [19.07],\n",
              "       ...,\n",
              "       [53.36],\n",
              "       [53.47],\n",
              "       [53.44]])"
            ]
          },
          "metadata": {},
          "execution_count": 6
        }
      ]
    },
    {
      "cell_type": "markdown",
      "source": [
        "**Feature Scaling**"
      ],
      "metadata": {
        "id": "1ycr79PuOEqH"
      }
    },
    {
      "cell_type": "code",
      "source": [
        "from sklearn.preprocessing import MinMaxScaler"
      ],
      "metadata": {
        "id": "q4QVHq57WqbI"
      },
      "execution_count": null,
      "outputs": []
    },
    {
      "cell_type": "code",
      "source": [
        "sc = MinMaxScaler(feature_range=(0,1)) #Initializes the scaler to normalize features between 0 and 1.\n",
        "training_scaled = sc.fit_transform(training_set) #fit() calculates the min and max values of the data, transform() scales the data to the given range using the normalization formula\n",
        "training_scaled"
      ],
      "metadata": {
        "colab": {
          "base_uri": "https://localhost:8080/"
        },
        "id": "sc5mK8nMWv0x",
        "outputId": "887cbd64-a646-4010-cf96-8a57a3d9c256"
      },
      "execution_count": null,
      "outputs": [
        {
          "output_type": "execute_result",
          "data": {
            "text/plain": [
              "array([[0.01001252],\n",
              "       [0.01001252],\n",
              "       [0.        ],\n",
              "       ...,\n",
              "       [0.8583229 ],\n",
              "       [0.86107635],\n",
              "       [0.86032541]])"
            ]
          },
          "metadata": {},
          "execution_count": 8
        }
      ]
    },
    {
      "cell_type": "markdown",
      "source": [
        "**Creating a data structure**"
      ],
      "metadata": {
        "id": "lxsFla3J4mws"
      }
    },
    {
      "cell_type": "code",
      "source": [
        "x_train = []\n",
        "y_train = []"
      ],
      "metadata": {
        "id": "Ly_cXfzTWwe6"
      },
      "execution_count": null,
      "outputs": []
    },
    {
      "cell_type": "markdown",
      "source": [
        "Here, the x_train will consist of the previous 120 values before each  entry in y_train. In the above snippet, we run a loop from row index 120 to 5298. Now We will start with the 121st day, whose diesel price will be recorded in the\n",
        "1st row of y_train, and the corresponding diesel prices from 1st to 120th day will be recorded in the 1st row of x_train. We will follow the same procedure for all the days ranging from 121st day to 5299th day or from row index 120 to 5298."
      ],
      "metadata": {
        "id": "oTN6B2Ye7GCe"
      }
    },
    {
      "cell_type": "code",
      "source": [
        "for i in range(120,  5299):\n",
        "              x_train.append(training_scaled[i-120:i,0])\n",
        "              y_train.append(training_scaled[i, 0])\n",
        "x_train,y_train=np.array(x_train),np.array(y_train)"
      ],
      "metadata": {
        "id": "G9Gl5KcJ45Xo"
      },
      "execution_count": null,
      "outputs": []
    },
    {
      "cell_type": "markdown",
      "source": [
        "**Reshaping the dataset**"
      ],
      "metadata": {
        "id": "OyXgDUUY_mbK"
      }
    },
    {
      "cell_type": "markdown",
      "source": [
        "To pass the size of x_train as the first argument to reshape(), we use x_train.shape[0], which tells the number of rows or instances in x_train. The second parameter refers to the total number of timestamps given by the number of columns in x_train. To get the count of the total number of columns in x_train, we will use x_train.shape[1]. The third parameter refers to the total number of features or indicators we use to build our model. We use only Delhi Diesel Price as a feature or indicator, so its value will be 1."
      ],
      "metadata": {
        "id": "oLlyPvvxApEy"
      }
    },
    {
      "cell_type": "code",
      "source": [
        "x_train = np.reshape(x_train,(x_train.shape[0],x_train.shape[1],1))"
      ],
      "metadata": {
        "id": "hitRZ-0gAYnO"
      },
      "execution_count": null,
      "outputs": []
    },
    {
      "cell_type": "markdown",
      "source": [
        "**Build the architecture of RNN (import the required libraries first)**"
      ],
      "metadata": {
        "id": "9gIAlTFyBcTS"
      }
    },
    {
      "cell_type": "markdown",
      "source": [
        "* Sequential class: A sequential model is a stack of layers arranged above each other. Using the Sequential class, we can create a sequential model.\n",
        "* Dense class: This is used for adding a regular, deeply connected neural network layer. It is used for adding the output layer.\n",
        "* LSTM class: Using the LSTM class, we can add individual LSTM layers to the model. It has several parameters which can be passed while creating an instance using the LSTM() method. These are units, activation, dropout,recurrent_activation, etc.\n",
        "* Dropout class: It is used for applying dropout to input. Through dropout, the randomly selected neurons are ignored during training to prevent neural networks from overfitting."
      ],
      "metadata": {
        "id": "kdf7LvqkC29k"
      }
    },
    {
      "cell_type": "code",
      "source": [
        "from keras.models import Sequential\n",
        "from keras.layers import Dense\n",
        "from keras.layers import  LSTM\n",
        "from keras.layers import Dropout"
      ],
      "metadata": {
        "id": "h2qje9z1BTc0"
      },
      "execution_count": null,
      "outputs": []
    },
    {
      "cell_type": "markdown",
      "source": [
        "**Initialize the RNN**"
      ],
      "metadata": {
        "id": "hfqIoSR446b2"
      }
    },
    {
      "cell_type": "code",
      "source": [
        "regressor = Sequential()"
      ],
      "metadata": {
        "id": "4wx8Lc50B1hp"
      },
      "execution_count": null,
      "outputs": []
    },
    {
      "cell_type": "markdown",
      "source": [
        "**Adding the first layer of LSTM**"
      ],
      "metadata": {
        "id": "KYWtHkBE5Jd5"
      }
    },
    {
      "cell_type": "markdown",
      "source": [
        "* Capturing the trends in diesel price is hard, we will need high dimensionality for the model. To implement these in our model we should have many neurons in each LSTM layer so no. of units have been to 50, it is important because smaller no. of neurons will not be able to capture the upward and downward trends accurately.\n",
        "\n",
        "* Next parameter is the return_sequences, & it has been set to true because we are making stacked LSTM and we must add more layers after this.\n",
        "\n",
        "* The third paramter is the input_shape, and we are specifying input_shape by (x_train.shape[1],1). Here, x_train.shape[1] corresponds to the number of timesteps, i.e., 120 in this case and 1 implies the number of predictors or indicators, which is 1 in our case.\n",
        "\n",
        "* Then we specify dropout value as 0.2. It signifies that the model will drop 20% of neurons in the layer, i.e.,20% of the neurons in the LSTM layer would be ignored during the model’s training. It will help to avoid the overfitting of the model."
      ],
      "metadata": {
        "id": "PWyqU0vg7ZuY"
      }
    },
    {
      "cell_type": "code",
      "source": [
        "regressor.add(LSTM(units=50,return_sequences=True,input_shape=(x_train.shape[1],1)))\n",
        "regressor.add(Dropout(0.2))"
      ],
      "metadata": {
        "colab": {
          "base_uri": "https://localhost:8080/"
        },
        "id": "05ItOJi65CUj",
        "outputId": "035be979-8ba2-47e2-8666-86b573caa8bd"
      },
      "execution_count": null,
      "outputs": [
        {
          "output_type": "stream",
          "name": "stderr",
          "text": [
            "/usr/local/lib/python3.11/dist-packages/keras/src/layers/rnn/rnn.py:200: UserWarning: Do not pass an `input_shape`/`input_dim` argument to a layer. When using Sequential models, prefer using an `Input(shape)` object as the first layer in the model instead.\n",
            "  super().__init__(**kwargs)\n"
          ]
        }
      ]
    },
    {
      "cell_type": "markdown",
      "source": [
        "**Adding more LSTM layers to the RNN model**"
      ],
      "metadata": {
        "id": "Q1jZZk1x95qJ"
      }
    },
    {
      "cell_type": "markdown",
      "source": [
        "* Second layer: units(same), return_sequences(TRUE, as we will add more layers above this layer), input_shape(No need to mention this because it will be recognized automatically from the first layer)\n",
        "\n",
        "* Third layer: same as second layer\n",
        "\n",
        "* Fourth layer: units(same-50 neurons), return_sequences(FALSE, this is the last LSTM layer, and no more LSTM layers will be added after this layer), input_shape(no need to mention)"
      ],
      "metadata": {
        "id": "4ia2AQJA-3qD"
      }
    },
    {
      "cell_type": "code",
      "source": [
        "# Second Layer\n",
        "regressor.add(LSTM(units=50,return_sequences=True))\n",
        "regressor.add(Dropout(0.2))\n",
        "# Third Layer\n",
        "regressor.add(LSTM( units=50,  return_sequences=True))\n",
        "regressor.add(Dropout(0.2))\n",
        "# Fourth Layer\n",
        "regressor.add(LSTM(units=50, return_sequences=False))\n",
        "regressor.add(Dropout( 0.2))"
      ],
      "metadata": {
        "id": "w47HMz6H6oLH"
      },
      "execution_count": null,
      "outputs": []
    },
    {
      "cell_type": "markdown",
      "source": [
        "**Adding the output Layer**"
      ],
      "metadata": {
        "id": "T22y54Jr-yT1"
      }
    },
    {
      "cell_type": "markdown",
      "source": [
        "Here we passed 1 inside Dense() to have only one node in the output layer. It is a regression model to predict prices for the next day, and also I want to predict one value as my output."
      ],
      "metadata": {
        "id": "xiQM9whTCfMG"
      }
    },
    {
      "cell_type": "code",
      "source": [
        "regressor.add(Dense(units=1))"
      ],
      "metadata": {
        "id": "eMezil7A-lQv"
      },
      "execution_count": null,
      "outputs": []
    },
    {
      "cell_type": "markdown",
      "source": [
        "**Compiling the RNN**"
      ],
      "metadata": {
        "id": "FJlH8s4QC2Bh"
      }
    },
    {
      "cell_type": "markdown",
      "source": [
        "* The Sequential class uses the compile() method for compiling\n",
        "the RNN. We will call the compile() method using the regressor object by passing two arguments as input. These arguments are namely optimizer and the loss function.\n",
        "\n",
        "* Here, we are using the adam optimizer as it is one of the most widely used and a significant performer amongst all other recommended optimizers. It implements a gradient descent algorithm as an optimizer.\n",
        "\n",
        "* Here, we are using the mean square error for calculating the loss. As we deal with regression, the error between predicted and actual values can be measured through mean square error."
      ],
      "metadata": {
        "id": "-HCUDp11E6z-"
      }
    },
    {
      "cell_type": "code",
      "source": [
        "regressor.compile(optimizer='adam',loss='mean_squared_error')"
      ],
      "metadata": {
        "id": "uJdVbgHe-1jE"
      },
      "execution_count": null,
      "outputs": []
    },
    {
      "cell_type": "markdown",
      "source": [
        "**Fitting the compiled RNN model into a training set**"
      ],
      "metadata": {
        "id": "F0FR6myFF1WN"
      }
    },
    {
      "cell_type": "markdown",
      "source": [
        "After successful execution of this step, the corresponding loss is also decreasing with significant increase of epochs. But adverse decrement of loss will lead to overfitting, hence, the arguments are passed into fit() method."
      ],
      "metadata": {
        "id": "rFimiPSrv_bh"
      }
    },
    {
      "cell_type": "code",
      "source": [
        "regressor.fit(x_train, y_train, epochs=50, batch_size=32)"
      ],
      "metadata": {
        "id": "OAwi4qm8E6FO",
        "colab": {
          "base_uri": "https://localhost:8080/"
        },
        "outputId": "3452be3d-97cd-4051-8887-392956d9c70f"
      },
      "execution_count": null,
      "outputs": [
        {
          "output_type": "stream",
          "name": "stdout",
          "text": [
            "Epoch 1/50\n",
            "\u001b[1m162/162\u001b[0m \u001b[32m━━━━━━━━━━━━━━━━━━━━\u001b[0m\u001b[37m\u001b[0m \u001b[1m43s\u001b[0m 220ms/step - loss: 0.0308\n",
            "Epoch 2/50\n",
            "\u001b[1m162/162\u001b[0m \u001b[32m━━━━━━━━━━━━━━━━━━━━\u001b[0m\u001b[37m\u001b[0m \u001b[1m44s\u001b[0m 237ms/step - loss: 0.0031\n",
            "Epoch 3/50\n",
            "\u001b[1m162/162\u001b[0m \u001b[32m━━━━━━━━━━━━━━━━━━━━\u001b[0m\u001b[37m\u001b[0m \u001b[1m43s\u001b[0m 246ms/step - loss: 0.0026\n",
            "Epoch 4/50\n",
            "\u001b[1m162/162\u001b[0m \u001b[32m━━━━━━━━━━━━━━━━━━━━\u001b[0m\u001b[37m\u001b[0m \u001b[1m42s\u001b[0m 252ms/step - loss: 0.0025\n",
            "Epoch 5/50\n",
            "\u001b[1m162/162\u001b[0m \u001b[32m━━━━━━━━━━━━━━━━━━━━\u001b[0m\u001b[37m\u001b[0m \u001b[1m50s\u001b[0m 308ms/step - loss: 0.0027\n",
            "Epoch 6/50\n",
            "\u001b[1m162/162\u001b[0m \u001b[32m━━━━━━━━━━━━━━━━━━━━\u001b[0m\u001b[37m\u001b[0m \u001b[1m68s\u001b[0m 224ms/step - loss: 0.0022\n",
            "Epoch 7/50\n",
            "\u001b[1m162/162\u001b[0m \u001b[32m━━━━━━━━━━━━━━━━━━━━\u001b[0m\u001b[37m\u001b[0m \u001b[1m41s\u001b[0m 222ms/step - loss: 0.0020\n",
            "Epoch 8/50\n",
            "\u001b[1m162/162\u001b[0m \u001b[32m━━━━━━━━━━━━━━━━━━━━\u001b[0m\u001b[37m\u001b[0m \u001b[1m41s\u001b[0m 222ms/step - loss: 0.0022\n",
            "Epoch 9/50\n",
            "\u001b[1m162/162\u001b[0m \u001b[32m━━━━━━━━━━━━━━━━━━━━\u001b[0m\u001b[37m\u001b[0m \u001b[1m40s\u001b[0m 213ms/step - loss: 0.0020\n",
            "Epoch 10/50\n",
            "\u001b[1m162/162\u001b[0m \u001b[32m━━━━━━━━━━━━━━━━━━━━\u001b[0m\u001b[37m\u001b[0m \u001b[1m41s\u001b[0m 216ms/step - loss: 0.0017\n",
            "Epoch 11/50\n",
            "\u001b[1m162/162\u001b[0m \u001b[32m━━━━━━━━━━━━━━━━━━━━\u001b[0m\u001b[37m\u001b[0m \u001b[1m34s\u001b[0m 212ms/step - loss: 0.0016\n",
            "Epoch 12/50\n",
            "\u001b[1m162/162\u001b[0m \u001b[32m━━━━━━━━━━━━━━━━━━━━\u001b[0m\u001b[37m\u001b[0m \u001b[1m41s\u001b[0m 215ms/step - loss: 0.0015\n",
            "Epoch 13/50\n",
            "\u001b[1m162/162\u001b[0m \u001b[32m━━━━━━━━━━━━━━━━━━━━\u001b[0m\u001b[37m\u001b[0m \u001b[1m45s\u001b[0m 238ms/step - loss: 0.0017\n",
            "Epoch 14/50\n",
            "\u001b[1m162/162\u001b[0m \u001b[32m━━━━━━━━━━━━━━━━━━━━\u001b[0m\u001b[37m\u001b[0m \u001b[1m39s\u001b[0m 238ms/step - loss: 0.0015\n",
            "Epoch 15/50\n",
            "\u001b[1m162/162\u001b[0m \u001b[32m━━━━━━━━━━━━━━━━━━━━\u001b[0m\u001b[37m\u001b[0m \u001b[1m39s\u001b[0m 238ms/step - loss: 0.0013\n",
            "Epoch 16/50\n",
            "\u001b[1m162/162\u001b[0m \u001b[32m━━━━━━━━━━━━━━━━━━━━\u001b[0m\u001b[37m\u001b[0m \u001b[1m39s\u001b[0m 238ms/step - loss: 0.0013\n",
            "Epoch 17/50\n",
            "\u001b[1m162/162\u001b[0m \u001b[32m━━━━━━━━━━━━━━━━━━━━\u001b[0m\u001b[37m\u001b[0m \u001b[1m38s\u001b[0m 219ms/step - loss: 0.0012\n",
            "Epoch 18/50\n",
            "\u001b[1m162/162\u001b[0m \u001b[32m━━━━━━━━━━━━━━━━━━━━\u001b[0m\u001b[37m\u001b[0m \u001b[1m35s\u001b[0m 214ms/step - loss: 0.0011\n",
            "Epoch 19/50\n",
            "\u001b[1m162/162\u001b[0m \u001b[32m━━━━━━━━━━━━━━━━━━━━\u001b[0m\u001b[37m\u001b[0m \u001b[1m42s\u001b[0m 221ms/step - loss: 0.0011\n",
            "Epoch 20/50\n",
            "\u001b[1m162/162\u001b[0m \u001b[32m━━━━━━━━━━━━━━━━━━━━\u001b[0m\u001b[37m\u001b[0m \u001b[1m41s\u001b[0m 221ms/step - loss: 0.0011\n",
            "Epoch 21/50\n",
            "\u001b[1m162/162\u001b[0m \u001b[32m━━━━━━━━━━━━━━━━━━━━\u001b[0m\u001b[37m\u001b[0m \u001b[1m41s\u001b[0m 221ms/step - loss: 0.0012\n",
            "Epoch 22/50\n",
            "\u001b[1m162/162\u001b[0m \u001b[32m━━━━━━━━━━━━━━━━━━━━\u001b[0m\u001b[37m\u001b[0m \u001b[1m40s\u001b[0m 215ms/step - loss: 0.0011\n",
            "Epoch 23/50\n",
            "\u001b[1m162/162\u001b[0m \u001b[32m━━━━━━━━━━━━━━━━━━━━\u001b[0m\u001b[37m\u001b[0m \u001b[1m41s\u001b[0m 216ms/step - loss: 0.0011\n",
            "Epoch 24/50\n",
            "\u001b[1m162/162\u001b[0m \u001b[32m━━━━━━━━━━━━━━━━━━━━\u001b[0m\u001b[37m\u001b[0m \u001b[1m42s\u001b[0m 220ms/step - loss: 0.0011\n",
            "Epoch 25/50\n",
            "\u001b[1m162/162\u001b[0m \u001b[32m━━━━━━━━━━━━━━━━━━━━\u001b[0m\u001b[37m\u001b[0m \u001b[1m35s\u001b[0m 214ms/step - loss: 0.0011\n",
            "Epoch 26/50\n",
            "\u001b[1m162/162\u001b[0m \u001b[32m━━━━━━━━━━━━━━━━━━━━\u001b[0m\u001b[37m\u001b[0m \u001b[1m42s\u001b[0m 220ms/step - loss: 0.0012\n",
            "Epoch 27/50\n",
            "\u001b[1m162/162\u001b[0m \u001b[32m━━━━━━━━━━━━━━━━━━━━\u001b[0m\u001b[37m\u001b[0m \u001b[1m41s\u001b[0m 221ms/step - loss: 9.3319e-04\n",
            "Epoch 28/50\n",
            "\u001b[1m162/162\u001b[0m \u001b[32m━━━━━━━━━━━━━━━━━━━━\u001b[0m\u001b[37m\u001b[0m \u001b[1m43s\u001b[0m 236ms/step - loss: 9.7762e-04\n",
            "Epoch 29/50\n",
            "\u001b[1m162/162\u001b[0m \u001b[32m━━━━━━━━━━━━━━━━━━━━\u001b[0m\u001b[37m\u001b[0m \u001b[1m38s\u001b[0m 236ms/step - loss: 9.1137e-04\n",
            "Epoch 30/50\n",
            "\u001b[1m162/162\u001b[0m \u001b[32m━━━━━━━━━━━━━━━━━━━━\u001b[0m\u001b[37m\u001b[0m \u001b[1m38s\u001b[0m 236ms/step - loss: 8.3333e-04\n",
            "Epoch 31/50\n",
            "\u001b[1m162/162\u001b[0m \u001b[32m━━━━━━━━━━━━━━━━━━━━\u001b[0m\u001b[37m\u001b[0m \u001b[1m38s\u001b[0m 237ms/step - loss: 7.8222e-04\n",
            "Epoch 32/50\n",
            "\u001b[1m162/162\u001b[0m \u001b[32m━━━━━━━━━━━━━━━━━━━━\u001b[0m\u001b[37m\u001b[0m \u001b[1m38s\u001b[0m 222ms/step - loss: 8.9092e-04\n",
            "Epoch 33/50\n",
            "\u001b[1m162/162\u001b[0m \u001b[32m━━━━━━━━━━━━━━━━━━━━\u001b[0m\u001b[37m\u001b[0m \u001b[1m40s\u001b[0m 214ms/step - loss: 9.2335e-04\n",
            "Epoch 34/50\n",
            "\u001b[1m162/162\u001b[0m \u001b[32m━━━━━━━━━━━━━━━━━━━━\u001b[0m\u001b[37m\u001b[0m \u001b[1m44s\u001b[0m 237ms/step - loss: 8.4393e-04\n",
            "Epoch 35/50\n",
            "\u001b[1m162/162\u001b[0m \u001b[32m━━━━━━━━━━━━━━━━━━━━\u001b[0m\u001b[37m\u001b[0m \u001b[1m38s\u001b[0m 220ms/step - loss: 8.4583e-04\n",
            "Epoch 36/50\n",
            "\u001b[1m162/162\u001b[0m \u001b[32m━━━━━━━━━━━━━━━━━━━━\u001b[0m\u001b[37m\u001b[0m \u001b[1m41s\u001b[0m 220ms/step - loss: 9.3871e-04\n",
            "Epoch 37/50\n",
            "\u001b[1m162/162\u001b[0m \u001b[32m━━━━━━━━━━━━━━━━━━━━\u001b[0m\u001b[37m\u001b[0m \u001b[1m41s\u001b[0m 220ms/step - loss: 9.4466e-04\n",
            "Epoch 38/50\n",
            "\u001b[1m162/162\u001b[0m \u001b[32m━━━━━━━━━━━━━━━━━━━━\u001b[0m\u001b[37m\u001b[0m \u001b[1m41s\u001b[0m 218ms/step - loss: 8.8794e-04\n",
            "Epoch 39/50\n",
            "\u001b[1m162/162\u001b[0m \u001b[32m━━━━━━━━━━━━━━━━━━━━\u001b[0m\u001b[37m\u001b[0m \u001b[1m40s\u001b[0m 214ms/step - loss: 8.3920e-04\n",
            "Epoch 40/50\n",
            "\u001b[1m162/162\u001b[0m \u001b[32m━━━━━━━━━━━━━━━━━━━━\u001b[0m\u001b[37m\u001b[0m \u001b[1m36s\u001b[0m 222ms/step - loss: 7.8478e-04\n",
            "Epoch 41/50\n",
            "\u001b[1m162/162\u001b[0m \u001b[32m━━━━━━━━━━━━━━━━━━━━\u001b[0m\u001b[37m\u001b[0m \u001b[1m39s\u001b[0m 211ms/step - loss: 7.9052e-04\n",
            "Epoch 42/50\n",
            "\u001b[1m162/162\u001b[0m \u001b[32m━━━━━━━━━━━━━━━━━━━━\u001b[0m\u001b[37m\u001b[0m \u001b[1m36s\u001b[0m 220ms/step - loss: 8.0371e-04\n",
            "Epoch 43/50\n",
            "\u001b[1m162/162\u001b[0m \u001b[32m━━━━━━━━━━━━━━━━━━━━\u001b[0m\u001b[37m\u001b[0m \u001b[1m35s\u001b[0m 219ms/step - loss: 7.3603e-04\n",
            "Epoch 44/50\n",
            "\u001b[1m162/162\u001b[0m \u001b[32m━━━━━━━━━━━━━━━━━━━━\u001b[0m\u001b[37m\u001b[0m \u001b[1m44s\u001b[0m 236ms/step - loss: 7.7233e-04\n",
            "Epoch 45/50\n",
            "\u001b[1m162/162\u001b[0m \u001b[32m━━━━━━━━━━━━━━━━━━━━\u001b[0m\u001b[37m\u001b[0m \u001b[1m38s\u001b[0m 220ms/step - loss: 8.2810e-04\n",
            "Epoch 46/50\n",
            "\u001b[1m162/162\u001b[0m \u001b[32m━━━━━━━━━━━━━━━━━━━━\u001b[0m\u001b[37m\u001b[0m \u001b[1m40s\u001b[0m 216ms/step - loss: 7.2915e-04\n",
            "Epoch 47/50\n",
            "\u001b[1m162/162\u001b[0m \u001b[32m━━━━━━━━━━━━━━━━━━━━\u001b[0m\u001b[37m\u001b[0m \u001b[1m40s\u001b[0m 212ms/step - loss: 7.3121e-04\n",
            "Epoch 48/50\n",
            "\u001b[1m162/162\u001b[0m \u001b[32m━━━━━━━━━━━━━━━━━━━━\u001b[0m\u001b[37m\u001b[0m \u001b[1m36s\u001b[0m 219ms/step - loss: 7.9546e-04\n",
            "Epoch 49/50\n",
            "\u001b[1m162/162\u001b[0m \u001b[32m━━━━━━━━━━━━━━━━━━━━\u001b[0m\u001b[37m\u001b[0m \u001b[1m36s\u001b[0m 219ms/step - loss: 8.0044e-04\n",
            "Epoch 50/50\n",
            "\u001b[1m162/162\u001b[0m \u001b[32m━━━━━━━━━━━━━━━━━━━━\u001b[0m\u001b[37m\u001b[0m \u001b[1m36s\u001b[0m 221ms/step - loss: 8.1080e-04\n"
          ]
        },
        {
          "output_type": "execute_result",
          "data": {
            "text/plain": [
              "<keras.src.callbacks.history.History at 0x7bb2eed1a790>"
            ]
          },
          "metadata": {},
          "execution_count": 18
        }
      ]
    },
    {
      "cell_type": "markdown",
      "source": [
        "**Preparing test dataset**"
      ],
      "metadata": {
        "id": "8zvqWYln8zv2"
      }
    },
    {
      "cell_type": "code",
      "source": [
        "test_df = pd.read_csv('Diesel_Price_Test.csv')\n",
        "test_df.head(5)"
      ],
      "metadata": {
        "colab": {
          "base_uri": "https://localhost:8080/",
          "height": 206
        },
        "id": "pgZQTT5utwFr",
        "outputId": "e1a59c2f-18d6-433b-f34a-b5ca65c3b3ab"
      },
      "execution_count": null,
      "outputs": [
        {
          "output_type": "execute_result",
          "data": {
            "text/plain": [
              "         Date  Delhi Diesel Price  Foreign Exchange Rate  Crude Oil Price\n",
              "0  05-07-2017               53.44                  64.71            47.86\n",
              "1  06-07-2017               53.61                  64.76            47.86\n",
              "2  07-07-2017               53.82                  64.78            47.86\n",
              "3  08-07-2017               54.06                  64.78            47.86\n",
              "4  09-07-2017               54.32                  64.78            47.86"
            ],
            "text/html": [
              "\n",
              "  <div id=\"df-e48b4f7a-33a0-46cc-b80f-215b91b81592\" class=\"colab-df-container\">\n",
              "    <div>\n",
              "<style scoped>\n",
              "    .dataframe tbody tr th:only-of-type {\n",
              "        vertical-align: middle;\n",
              "    }\n",
              "\n",
              "    .dataframe tbody tr th {\n",
              "        vertical-align: top;\n",
              "    }\n",
              "\n",
              "    .dataframe thead th {\n",
              "        text-align: right;\n",
              "    }\n",
              "</style>\n",
              "<table border=\"1\" class=\"dataframe\">\n",
              "  <thead>\n",
              "    <tr style=\"text-align: right;\">\n",
              "      <th></th>\n",
              "      <th>Date</th>\n",
              "      <th>Delhi Diesel Price</th>\n",
              "      <th>Foreign Exchange Rate</th>\n",
              "      <th>Crude Oil Price</th>\n",
              "    </tr>\n",
              "  </thead>\n",
              "  <tbody>\n",
              "    <tr>\n",
              "      <th>0</th>\n",
              "      <td>05-07-2017</td>\n",
              "      <td>53.44</td>\n",
              "      <td>64.71</td>\n",
              "      <td>47.86</td>\n",
              "    </tr>\n",
              "    <tr>\n",
              "      <th>1</th>\n",
              "      <td>06-07-2017</td>\n",
              "      <td>53.61</td>\n",
              "      <td>64.76</td>\n",
              "      <td>47.86</td>\n",
              "    </tr>\n",
              "    <tr>\n",
              "      <th>2</th>\n",
              "      <td>07-07-2017</td>\n",
              "      <td>53.82</td>\n",
              "      <td>64.78</td>\n",
              "      <td>47.86</td>\n",
              "    </tr>\n",
              "    <tr>\n",
              "      <th>3</th>\n",
              "      <td>08-07-2017</td>\n",
              "      <td>54.06</td>\n",
              "      <td>64.78</td>\n",
              "      <td>47.86</td>\n",
              "    </tr>\n",
              "    <tr>\n",
              "      <th>4</th>\n",
              "      <td>09-07-2017</td>\n",
              "      <td>54.32</td>\n",
              "      <td>64.78</td>\n",
              "      <td>47.86</td>\n",
              "    </tr>\n",
              "  </tbody>\n",
              "</table>\n",
              "</div>\n",
              "    <div class=\"colab-df-buttons\">\n",
              "\n",
              "  <div class=\"colab-df-container\">\n",
              "    <button class=\"colab-df-convert\" onclick=\"convertToInteractive('df-e48b4f7a-33a0-46cc-b80f-215b91b81592')\"\n",
              "            title=\"Convert this dataframe to an interactive table.\"\n",
              "            style=\"display:none;\">\n",
              "\n",
              "  <svg xmlns=\"http://www.w3.org/2000/svg\" height=\"24px\" viewBox=\"0 -960 960 960\">\n",
              "    <path d=\"M120-120v-720h720v720H120Zm60-500h600v-160H180v160Zm220 220h160v-160H400v160Zm0 220h160v-160H400v160ZM180-400h160v-160H180v160Zm440 0h160v-160H620v160ZM180-180h160v-160H180v160Zm440 0h160v-160H620v160Z\"/>\n",
              "  </svg>\n",
              "    </button>\n",
              "\n",
              "  <style>\n",
              "    .colab-df-container {\n",
              "      display:flex;\n",
              "      gap: 12px;\n",
              "    }\n",
              "\n",
              "    .colab-df-convert {\n",
              "      background-color: #E8F0FE;\n",
              "      border: none;\n",
              "      border-radius: 50%;\n",
              "      cursor: pointer;\n",
              "      display: none;\n",
              "      fill: #1967D2;\n",
              "      height: 32px;\n",
              "      padding: 0 0 0 0;\n",
              "      width: 32px;\n",
              "    }\n",
              "\n",
              "    .colab-df-convert:hover {\n",
              "      background-color: #E2EBFA;\n",
              "      box-shadow: 0px 1px 2px rgba(60, 64, 67, 0.3), 0px 1px 3px 1px rgba(60, 64, 67, 0.15);\n",
              "      fill: #174EA6;\n",
              "    }\n",
              "\n",
              "    .colab-df-buttons div {\n",
              "      margin-bottom: 4px;\n",
              "    }\n",
              "\n",
              "    [theme=dark] .colab-df-convert {\n",
              "      background-color: #3B4455;\n",
              "      fill: #D2E3FC;\n",
              "    }\n",
              "\n",
              "    [theme=dark] .colab-df-convert:hover {\n",
              "      background-color: #434B5C;\n",
              "      box-shadow: 0px 1px 3px 1px rgba(0, 0, 0, 0.15);\n",
              "      filter: drop-shadow(0px 1px 2px rgba(0, 0, 0, 0.3));\n",
              "      fill: #FFFFFF;\n",
              "    }\n",
              "  </style>\n",
              "\n",
              "    <script>\n",
              "      const buttonEl =\n",
              "        document.querySelector('#df-e48b4f7a-33a0-46cc-b80f-215b91b81592 button.colab-df-convert');\n",
              "      buttonEl.style.display =\n",
              "        google.colab.kernel.accessAllowed ? 'block' : 'none';\n",
              "\n",
              "      async function convertToInteractive(key) {\n",
              "        const element = document.querySelector('#df-e48b4f7a-33a0-46cc-b80f-215b91b81592');\n",
              "        const dataTable =\n",
              "          await google.colab.kernel.invokeFunction('convertToInteractive',\n",
              "                                                    [key], {});\n",
              "        if (!dataTable) return;\n",
              "\n",
              "        const docLinkHtml = 'Like what you see? Visit the ' +\n",
              "          '<a target=\"_blank\" href=https://colab.research.google.com/notebooks/data_table.ipynb>data table notebook</a>'\n",
              "          + ' to learn more about interactive tables.';\n",
              "        element.innerHTML = '';\n",
              "        dataTable['output_type'] = 'display_data';\n",
              "        await google.colab.output.renderOutput(dataTable, element);\n",
              "        const docLink = document.createElement('div');\n",
              "        docLink.innerHTML = docLinkHtml;\n",
              "        element.appendChild(docLink);\n",
              "      }\n",
              "    </script>\n",
              "  </div>\n",
              "\n",
              "\n",
              "    <div id=\"df-9362b7a6-95bd-4187-936c-82bb8f8aae80\">\n",
              "      <button class=\"colab-df-quickchart\" onclick=\"quickchart('df-9362b7a6-95bd-4187-936c-82bb8f8aae80')\"\n",
              "                title=\"Suggest charts\"\n",
              "                style=\"display:none;\">\n",
              "\n",
              "<svg xmlns=\"http://www.w3.org/2000/svg\" height=\"24px\"viewBox=\"0 0 24 24\"\n",
              "     width=\"24px\">\n",
              "    <g>\n",
              "        <path d=\"M19 3H5c-1.1 0-2 .9-2 2v14c0 1.1.9 2 2 2h14c1.1 0 2-.9 2-2V5c0-1.1-.9-2-2-2zM9 17H7v-7h2v7zm4 0h-2V7h2v10zm4 0h-2v-4h2v4z\"/>\n",
              "    </g>\n",
              "</svg>\n",
              "      </button>\n",
              "\n",
              "<style>\n",
              "  .colab-df-quickchart {\n",
              "      --bg-color: #E8F0FE;\n",
              "      --fill-color: #1967D2;\n",
              "      --hover-bg-color: #E2EBFA;\n",
              "      --hover-fill-color: #174EA6;\n",
              "      --disabled-fill-color: #AAA;\n",
              "      --disabled-bg-color: #DDD;\n",
              "  }\n",
              "\n",
              "  [theme=dark] .colab-df-quickchart {\n",
              "      --bg-color: #3B4455;\n",
              "      --fill-color: #D2E3FC;\n",
              "      --hover-bg-color: #434B5C;\n",
              "      --hover-fill-color: #FFFFFF;\n",
              "      --disabled-bg-color: #3B4455;\n",
              "      --disabled-fill-color: #666;\n",
              "  }\n",
              "\n",
              "  .colab-df-quickchart {\n",
              "    background-color: var(--bg-color);\n",
              "    border: none;\n",
              "    border-radius: 50%;\n",
              "    cursor: pointer;\n",
              "    display: none;\n",
              "    fill: var(--fill-color);\n",
              "    height: 32px;\n",
              "    padding: 0;\n",
              "    width: 32px;\n",
              "  }\n",
              "\n",
              "  .colab-df-quickchart:hover {\n",
              "    background-color: var(--hover-bg-color);\n",
              "    box-shadow: 0 1px 2px rgba(60, 64, 67, 0.3), 0 1px 3px 1px rgba(60, 64, 67, 0.15);\n",
              "    fill: var(--button-hover-fill-color);\n",
              "  }\n",
              "\n",
              "  .colab-df-quickchart-complete:disabled,\n",
              "  .colab-df-quickchart-complete:disabled:hover {\n",
              "    background-color: var(--disabled-bg-color);\n",
              "    fill: var(--disabled-fill-color);\n",
              "    box-shadow: none;\n",
              "  }\n",
              "\n",
              "  .colab-df-spinner {\n",
              "    border: 2px solid var(--fill-color);\n",
              "    border-color: transparent;\n",
              "    border-bottom-color: var(--fill-color);\n",
              "    animation:\n",
              "      spin 1s steps(1) infinite;\n",
              "  }\n",
              "\n",
              "  @keyframes spin {\n",
              "    0% {\n",
              "      border-color: transparent;\n",
              "      border-bottom-color: var(--fill-color);\n",
              "      border-left-color: var(--fill-color);\n",
              "    }\n",
              "    20% {\n",
              "      border-color: transparent;\n",
              "      border-left-color: var(--fill-color);\n",
              "      border-top-color: var(--fill-color);\n",
              "    }\n",
              "    30% {\n",
              "      border-color: transparent;\n",
              "      border-left-color: var(--fill-color);\n",
              "      border-top-color: var(--fill-color);\n",
              "      border-right-color: var(--fill-color);\n",
              "    }\n",
              "    40% {\n",
              "      border-color: transparent;\n",
              "      border-right-color: var(--fill-color);\n",
              "      border-top-color: var(--fill-color);\n",
              "    }\n",
              "    60% {\n",
              "      border-color: transparent;\n",
              "      border-right-color: var(--fill-color);\n",
              "    }\n",
              "    80% {\n",
              "      border-color: transparent;\n",
              "      border-right-color: var(--fill-color);\n",
              "      border-bottom-color: var(--fill-color);\n",
              "    }\n",
              "    90% {\n",
              "      border-color: transparent;\n",
              "      border-bottom-color: var(--fill-color);\n",
              "    }\n",
              "  }\n",
              "</style>\n",
              "\n",
              "      <script>\n",
              "        async function quickchart(key) {\n",
              "          const quickchartButtonEl =\n",
              "            document.querySelector('#' + key + ' button');\n",
              "          quickchartButtonEl.disabled = true;  // To prevent multiple clicks.\n",
              "          quickchartButtonEl.classList.add('colab-df-spinner');\n",
              "          try {\n",
              "            const charts = await google.colab.kernel.invokeFunction(\n",
              "                'suggestCharts', [key], {});\n",
              "          } catch (error) {\n",
              "            console.error('Error during call to suggestCharts:', error);\n",
              "          }\n",
              "          quickchartButtonEl.classList.remove('colab-df-spinner');\n",
              "          quickchartButtonEl.classList.add('colab-df-quickchart-complete');\n",
              "        }\n",
              "        (() => {\n",
              "          let quickchartButtonEl =\n",
              "            document.querySelector('#df-9362b7a6-95bd-4187-936c-82bb8f8aae80 button');\n",
              "          quickchartButtonEl.style.display =\n",
              "            google.colab.kernel.accessAllowed ? 'block' : 'none';\n",
              "        })();\n",
              "      </script>\n",
              "    </div>\n",
              "\n",
              "    </div>\n",
              "  </div>\n"
            ],
            "application/vnd.google.colaboratory.intrinsic+json": {
              "type": "dataframe",
              "variable_name": "test_df",
              "summary": "{\n  \"name\": \"test_df\",\n  \"rows\": 79,\n  \"fields\": [\n    {\n      \"column\": \"Date\",\n      \"properties\": {\n        \"dtype\": \"string\",\n        \"num_unique_values\": 79,\n        \"samples\": [\n          \"04-08-2017\",\n          \"05-07-2017\",\n          \"27-07-2017\"\n        ],\n        \"semantic_type\": \"\",\n        \"description\": \"\"\n      }\n    },\n    {\n      \"column\": \"Delhi Diesel Price\",\n      \"properties\": {\n        \"dtype\": \"number\",\n        \"std\": 1.4762089154622489,\n        \"min\": 53.44,\n        \"max\": 58.91,\n        \"num_unique_values\": 65,\n        \"samples\": [\n          58.06,\n          58.88,\n          53.44\n        ],\n        \"semantic_type\": \"\",\n        \"description\": \"\"\n      }\n    },\n    {\n      \"column\": \"Foreign Exchange Rate\",\n      \"properties\": {\n        \"dtype\": \"number\",\n        \"std\": 0.26672828726538106,\n        \"min\": 63.65,\n        \"max\": 64.78,\n        \"num_unique_values\": 42,\n        \"samples\": [\n          64.28,\n          64.2,\n          64.37\n        ],\n        \"semantic_type\": \"\",\n        \"description\": \"\"\n      }\n    },\n    {\n      \"column\": \"Crude Oil Price\",\n      \"properties\": {\n        \"dtype\": \"number\",\n        \"std\": 2.5927407085349405,\n        \"min\": 47.86,\n        \"max\": 54.52,\n        \"num_unique_values\": 3,\n        \"samples\": [\n          47.86,\n          50.63,\n          54.52\n        ],\n        \"semantic_type\": \"\",\n        \"description\": \"\"\n      }\n    }\n  ]\n}"
            }
          },
          "metadata": {},
          "execution_count": 19
        }
      ]
    },
    {
      "cell_type": "markdown",
      "source": [
        "Only the Delhi Diesel Price column is relevant to us out of all the columns. To extract this column, we will use the iloc[] method with two arguments “:” and “1:2”. Here, “:” means data from all the rows, and “1:2” are lower and upper bounds of the column, indicating the column selection at index 1."
      ],
      "metadata": {
        "id": "DeclGxLj-KId"
      }
    },
    {
      "cell_type": "code",
      "source": [
        "diesel_price = test_df.iloc[:,1:2].values"
      ],
      "metadata": {
        "id": "riCK7BPW9sSx"
      },
      "execution_count": null,
      "outputs": []
    },
    {
      "cell_type": "markdown",
      "source": [
        "**Preparing the test data in the desired data structure for feeding it to the model**"
      ],
      "metadata": {
        "id": "lDU9tOtWfoGO"
      }
    },
    {
      "cell_type": "markdown",
      "source": [
        "To predict each test day, model needs 120 prior days. Combine last 120 training days with test data using concat().\n",
        "\n",
        "Code Explanation: we concatenate train and test dataset and form a new dataframe called dataset_total, but we do not need all these records. So we choose the desired data by:\n",
        "\n",
        "=> len(dataset_total) – len(dataset_test) – 120\n",
        "\n",
        "=> 5379 – 80 – 120 = 5179th record (This gave us the index from which we pull the data to create the required data structure)\n",
        "\n",
        "In the next line reshape is used to reshape the inputs and next line scaling is done as RNN was trained on scaled values."
      ],
      "metadata": {
        "id": "HQAymLPChDea"
      }
    },
    {
      "cell_type": "code",
      "source": [
        "dataset_total = pd.concat((df['Delhi Diesel Price'],test_df['Delhi Diesel Price']), axis=0)\n",
        "inputs = dataset_total[len(dataset_total)-len(test_df)-120:].values\n",
        "inputs = inputs.reshape(-1,1)\n",
        "inputs = sc.transform(inputs)"
      ],
      "metadata": {
        "id": "j-11K8GA-D_A"
      },
      "execution_count": null,
      "outputs": []
    },
    {
      "cell_type": "markdown",
      "source": [
        "**Creating the desired 3D structure for test data**"
      ],
      "metadata": {
        "id": "l__TmSprnBQn"
      }
    },
    {
      "cell_type": "markdown",
      "source": [
        "This code segment iterates through the range of indices from 120 to 199, extracts a specific subset of values from the inputs array, and adds them to the x_test list for further processing."
      ],
      "metadata": {
        "id": "AVHStstOxnX-"
      }
    },
    {
      "cell_type": "code",
      "source": [
        "x_test = []\n",
        "for i in range(120, 200):\n",
        "  x_test.append(inputs[i-120:i,0])"
      ],
      "metadata": {
        "id": "pfTrlC1djfbg"
      },
      "execution_count": null,
      "outputs": []
    },
    {
      "cell_type": "markdown",
      "source": [
        "**Coneverting x_test to array and creating 3D structure**"
      ],
      "metadata": {
        "id": "amJyZ1EwhOpA"
      }
    },
    {
      "cell_type": "markdown",
      "source": [
        "This code segment iterates through the range of indices from 120 to 199, extracts a specific subset of values from the inputs array, and adds them to the x_test list for further processing.\n",
        "\n",
        "Since x_test is the list and we need to convert it into NumPy arrays, the     np.array() method will be used to convert x_test into NumPy arrays.\n",
        "\n",
        " Once the x_test is prepared, we will convert it into three-dimension, as the RNN model demands an input in 3D format."
      ],
      "metadata": {
        "id": "AxnBrX00vWoR"
      }
    },
    {
      "cell_type": "code",
      "source": [
        "x_test = np.array(x_test)\n",
        "x_test = np.reshape(x_test, (x_test.shape[0],x_test.shape[1],1))"
      ],
      "metadata": {
        "id": "r3_jwrkuxKpI"
      },
      "execution_count": null,
      "outputs": []
    },
    {
      "cell_type": "markdown",
      "source": [
        "**Making the predictions**"
      ],
      "metadata": {
        "id": "qsUZJ5bY0NZk"
      }
    },
    {
      "cell_type": "markdown",
      "source": [
        "The first line of code will return the predictions in scaled values as our dataset is scaled, so to make it consistent with the actual diesel price, we have to inverse the scaling of our predictions.\n",
        "\n",
        "To get the original scale of these scaled predicted values, we need to apply the inverse transform method from our scaling sc object.\n",
        "\n",
        "After making the predictions, we used the inverse_transform() method to get back the diesel prices in a normal readable format."
      ],
      "metadata": {
        "id": "BFZKPslSyFU7"
      }
    },
    {
      "cell_type": "code",
      "source": [
        "predicted_diesel_price=regressor.predict(x_test)\n",
        "predicted_diesel_price=sc.inverse_transform(predicted_diesel_price)"
      ],
      "metadata": {
        "colab": {
          "base_uri": "https://localhost:8080/"
        },
        "id": "aO9CSBRyhns8",
        "outputId": "039b86f2-c515-4e31-b840-f5a83455c231"
      },
      "execution_count": null,
      "outputs": [
        {
          "output_type": "stream",
          "name": "stdout",
          "text": [
            "\u001b[1m3/3\u001b[0m \u001b[32m━━━━━━━━━━━━━━━━━━━━\u001b[0m\u001b[37m\u001b[0m \u001b[1m2s\u001b[0m 329ms/step\n"
          ]
        }
      ]
    },
    {
      "cell_type": "markdown",
      "source": [
        "**Visualize the result**"
      ],
      "metadata": {
        "id": "FPZKcUrm0sZ2"
      }
    },
    {
      "cell_type": "code",
      "source": [
        "plt.plot(diesel_price, color=\"red\",label=\"Real Diesel Price\")\n",
        "plt.plot(predicted_diesel_price, color=\"blue\",label=\"Predicted Diesel Price\")\n",
        "plt.title(\"Diesel Predictions\")\n",
        "plt.xlabel(\"Time\")\n",
        "plt.ylabel(\"Diesel Price\")\n",
        "plt.legend()\n",
        "plt.savefig(\"DieselTS\", dpi=2500)\n",
        "plt.show()"
      ],
      "metadata": {
        "colab": {
          "base_uri": "https://localhost:8080/",
          "height": 472
        },
        "id": "SMPEnR1_0oQp",
        "outputId": "0c7e16af-8c29-4803-e181-8fe048f78cd5"
      },
      "execution_count": null,
      "outputs": [
        {
          "output_type": "display_data",
          "data": {
            "text/plain": [
              "<Figure size 640x480 with 1 Axes>"
            ],
            "image/png": "[encoded data removed]"
          },
          "metadata": {}
        }
      ]
    },
    {
      "cell_type": "code",
      "source": [],
      "metadata": {
        "id": "bXHLYmCy1PmK"
      },
      "execution_count": null,
      "outputs": []
    }
  ]
}